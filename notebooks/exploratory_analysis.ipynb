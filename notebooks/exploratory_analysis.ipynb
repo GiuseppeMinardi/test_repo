{
 "cells": [
  {
   "cell_type": "code",
   "execution_count": null,
   "id": "288fb7fa",
   "metadata": {},
   "outputs": [],
   "source": [
    "# %run ./setup.py\n",
    "\n",
    "import sys\n",
    "from pathlib import Path\n",
    "\n",
    "from matplotlib import pyplot as plt\n",
    "\n",
    "sys.path.insert(0, \"..\")\n",
    "\n",
    "from src import project_paths\n",
    "\n",
    "mlpstyle_path: Path = project_paths.root / \"plot_style.mlpstyle\"\n",
    "if mlpstyle_path.exists():\n",
    "    plt.style.use(mlpstyle_path)\n",
    "    print(f\"Using {mlpstyle_path.name} as plot style for matplotlib.\")\n",
    "else:\n",
    "    print(\"No style found, using matplotlib default\")"
   ]
  },
  {
   "cell_type": "code",
   "execution_count": null,
   "id": "cbd5e312",
   "metadata": {},
   "outputs": [],
   "source": []
  }
 ],
 "metadata": {
  "kernelspec": {
   "display_name": "pymc_env",
   "language": "python",
   "name": "python3"
  },
  "language_info": {
   "codemirror_mode": {
    "name": "ipython",
    "version": 3
   },
   "file_extension": ".py",
   "mimetype": "text/x-python",
   "name": "python",
   "nbconvert_exporter": "python",
   "pygments_lexer": "ipython3",
   "version": "3.12.11"
  }
 },
 "nbformat": 4,
 "nbformat_minor": 5
}
